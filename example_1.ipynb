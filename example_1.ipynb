{
  "nbformat": 4,
  "nbformat_minor": 0,
  "metadata": {
    "colab": {
      "provenance": [],
      "gpuType": "T4",
      "authorship_tag": "ABX9TyOrSrmiLiK/A1auosLm4Rj4",
      "include_colab_link": true
    },
    "kernelspec": {
      "name": "python3",
      "display_name": "Python 3"
    },
    "language_info": {
      "name": "python"
    },
    "accelerator": "GPU"
  },
  "cells": [
    {
      "cell_type": "markdown",
      "metadata": {
        "id": "view-in-github",
        "colab_type": "text"
      },
      "source": [
        "<a href=\"https://colab.research.google.com/github/melchilegion/3mtt/blob/main/example_1.ipynb\" target=\"_parent\"><img src=\"https://colab.research.google.com/assets/colab-badge.svg\" alt=\"Open In Colab\"/></a>"
      ]
    },
    {
      "cell_type": "code",
      "execution_count": null,
      "metadata": {
        "colab": {
          "base_uri": "https://localhost:8080/"
        },
        "id": "ylHamuuBJNkk",
        "outputId": "10ffc65a-8142-41c0-80bc-17d5b755205c"
      },
      "outputs": [
        {
          "output_type": "stream",
          "name": "stdout",
          "text": [
            "Mounted at /content/drive\n"
          ]
        }
      ],
      "source": [
        "from google.colab import drive\n",
        "drive.mount('/content/drive')"
      ]
    },
    {
      "cell_type": "code",
      "source": [
        "import pandas as pd\n",
        "\n",
        "file_path = \"/content/drive/MyDrive/Example_1/Dataset.csv\"\n",
        "df = pd.read_csv(file_path)\n"
      ],
      "metadata": {
        "id": "vtgjWeb4QsJr"
      },
      "execution_count": null,
      "outputs": []
    },
    {
      "cell_type": "code",
      "source": [
        "print (df.head())"
      ],
      "metadata": {
        "colab": {
          "base_uri": "https://localhost:8080/"
        },
        "id": "s1zkQpVAUOtY",
        "outputId": "06cc1cbb-cb69-425e-a3c6-8f5a4b2ec271"
      },
      "execution_count": null,
      "outputs": [
        {
          "output_type": "stream",
          "name": "stdout",
          "text": [
            "   flow_duration  Header_Length  Protocol Type  Duration        Rate  \\\n",
            "0       0.000000          54.00           6.00     64.00  110.797744   \n",
            "1       0.006453         182.88          16.67     63.60   30.905833   \n",
            "2      31.739927        7382.93           3.23     80.15    8.923224   \n",
            "3       0.000000          54.00           6.00     64.00    1.697796   \n",
            "4       0.000000          54.00           6.00     64.00    1.471092   \n",
            "\n",
            "        Srate  Drate  fin_flag_number  syn_flag_number  rst_flag_number  ...  \\\n",
            "0  110.797744    0.0              0.0              0.0              0.0  ...   \n",
            "1   30.905833    0.0              0.0              0.0              0.0  ...   \n",
            "2    8.923224    0.0              0.0              0.0              0.0  ...   \n",
            "3    1.697796    0.0              0.0              0.0              0.0  ...   \n",
            "4    1.471092    0.0              1.0              0.0              1.0  ...   \n",
            "\n",
            "          Std  Tot size           IAT  Number   Magnitue      Radius  \\\n",
            "0    0.000000     54.00  8.307619e+07     9.5  10.392305    0.000000   \n",
            "1    3.072377    162.87  8.300739e+07     9.5  18.010237    4.370333   \n",
            "2  532.284695    637.09  8.328373e+07     9.5  35.140754  752.738781   \n",
            "3    0.000000     54.00  8.307650e+07     9.5  10.392305    0.000000   \n",
            "4    0.000000     54.00  8.334428e+07     9.5  10.392305    0.000000   \n",
            "\n",
            "      Covariance  Variance  Weight                    label  \n",
            "0       0.000000      0.00  141.55           DDoS-TCP_Flood  \n",
            "1     209.623265      0.05  141.55            DoS-UDP_Flood  \n",
            "2  306225.702126      0.94  141.55  DDoS-ICMP_Fragmentation  \n",
            "3       0.000000      0.00  141.55           DDoS-TCP_Flood  \n",
            "4       0.000000      0.00  141.55         DDoS-RSTFINFlood  \n",
            "\n",
            "[5 rows x 47 columns]\n"
          ]
        }
      ]
    },
    {
      "cell_type": "code",
      "source": [
        "print (df.shape)"
      ],
      "metadata": {
        "colab": {
          "base_uri": "https://localhost:8080/"
        },
        "id": "U2tfSFm8Wxbt",
        "outputId": "15432602-b8da-4e94-a1e3-7013bc682db0"
      },
      "execution_count": null,
      "outputs": [
        {
          "output_type": "stream",
          "name": "stdout",
          "text": [
            "(234745, 47)\n"
          ]
        }
      ]
    },
    {
      "cell_type": "code",
      "source": [
        "x = int (input (\"Enter the First Number:\\n\"))\n",
        "y = int (input (\"Enter The Second Number:\\n\"))\n",
        "z = x + y\n",
        "print (\"The Sum of the two number is: \", z)"
      ],
      "metadata": {
        "colab": {
          "base_uri": "https://localhost:8080/"
        },
        "id": "-lEDmsj7DV4z",
        "outputId": "a7b9c697-04b4-4fac-f68f-5ad911f385a3"
      },
      "execution_count": 1,
      "outputs": [
        {
          "output_type": "stream",
          "name": "stdout",
          "text": [
            "Enter the First Number:\n",
            "3\n",
            "Enter The Second Number:\n",
            "5\n",
            "The Sum of the two number is:  8\n"
          ]
        }
      ]
    },
    {
      "cell_type": "code",
      "source": [
        "import numpy as np\n",
        "import pandas as pd\n",
        "from sklearn.model_selection import train_test_split\n",
        "import matplotlib.pyplot as plt"
      ],
      "metadata": {
        "id": "j_2WkUXGMla8"
      },
      "execution_count": 2,
      "outputs": []
    },
    {
      "cell_type": "code",
      "source": [
        "np.random.seed(42)\n",
        "x = np.random.rand(100, 1) * 10 # 100 data points between 0 and 100\n",
        "y = 2.5 * x + np.random.randn(100, 1) # y = 2.5 * x + noise"
      ],
      "metadata": {
        "id": "yRU83gUdNoO9"
      },
      "execution_count": 3,
      "outputs": []
    },
    {
      "cell_type": "code",
      "source": [
        "from os import X_OK\n",
        "#Splitting the data into training sets and test sets\n",
        "x_train, x_test, y_train, y_test = train_test_split(x, y, test_size=0.2, random_state=42)"
      ],
      "metadata": {
        "id": "-ZpNZ5hiQMKB"
      },
      "execution_count": 4,
      "outputs": []
    },
    {
      "cell_type": "code",
      "source": [
        "# Convert to pandas DataFrame for easy visualization\n",
        "data = pd.DataFrame(data = {'Feature': x.flatten(), 'Target': y.flatten()})"
      ],
      "metadata": {
        "id": "W-QvjheQQ-T6"
      },
      "execution_count": 5,
      "outputs": []
    }
  ]
}